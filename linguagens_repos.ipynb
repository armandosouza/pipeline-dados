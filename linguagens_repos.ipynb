{
 "cells": [
  {
   "cell_type": "code",
   "execution_count": 16,
   "metadata": {},
   "outputs": [],
   "source": [
    "import requests\n",
    "import pandas as pd"
   ]
  },
  {
   "cell_type": "code",
   "execution_count": 2,
   "metadata": {},
   "outputs": [],
   "source": [
    "r = requests.get('https://api.github.com/versions')"
   ]
  },
  {
   "cell_type": "code",
   "execution_count": 3,
   "metadata": {},
   "outputs": [
    {
     "data": {
      "text/plain": [
       "<Response [200]>"
      ]
     },
     "execution_count": 3,
     "metadata": {},
     "output_type": "execute_result"
    }
   ],
   "source": [
    "r"
   ]
  },
  {
   "cell_type": "code",
   "execution_count": 4,
   "metadata": {},
   "outputs": [
    {
     "data": {
      "text/plain": [
       "'https://api.github.com/versions'"
      ]
     },
     "execution_count": 4,
     "metadata": {},
     "output_type": "execute_result"
    }
   ],
   "source": [
    "r.status_code\n",
    "r.url"
   ]
  },
  {
   "cell_type": "code",
   "execution_count": 5,
   "metadata": {},
   "outputs": [
    {
     "data": {
      "text/plain": [
       "['2022-11-28']"
      ]
     },
     "execution_count": 5,
     "metadata": {},
     "output_type": "execute_result"
    }
   ],
   "source": [
    "r.json()"
   ]
  },
  {
   "cell_type": "markdown",
   "metadata": {},
   "source": [
    "### Desafio Prático 1 - Testar a API do Github com algum usuário específico"
   ]
  },
  {
   "cell_type": "code",
   "execution_count": 6,
   "metadata": {},
   "outputs": [
    {
     "name": "stdout",
     "output_type": "stream",
     "text": [
      "Nome: armandosouza | User: armandosouza | Repos Públicas: 22 | Criado em: 2019-09-07T04:04:33Z\n"
     ]
    }
   ],
   "source": [
    "url = \"https://api.github.com/users/armandosouza\"\n",
    "response = requests.get(url)\n",
    "response.status_code\n",
    "user = response.json()\n",
    "print(f\"Nome: {user['name']} | User: {user['login']} | Repos Públicas: {user['public_repos']} | Criado em: {user['created_at']}\")"
   ]
  },
  {
   "cell_type": "markdown",
   "metadata": {},
   "source": [
    "## Extract dos Dados"
   ]
  },
  {
   "cell_type": "code",
   "execution_count": 7,
   "metadata": {},
   "outputs": [],
   "source": [
    "api_base_url = 'https://api.github.com'\n",
    "owner = 'amzn'\n",
    "url = f\"{api_base_url}/users/{owner}/repos\"\n"
   ]
  },
  {
   "cell_type": "code",
   "execution_count": 8,
   "metadata": {},
   "outputs": [],
   "source": [
    "repos_list = []\n",
    "for page_num in range(1, 6):\n",
    "    try:\n",
    "        url_page = f'{url}?page={page_num}'\n",
    "        response = requests.get(url_page)\n",
    "        repos_list.append(response.json())\n",
    "    except:\n",
    "        repos_list.append(None)"
   ]
  },
  {
   "cell_type": "code",
   "execution_count": 9,
   "metadata": {},
   "outputs": [
    {
     "data": {
      "text/plain": [
       "{'id': 171339259,\n",
       " 'node_id': 'MDEwOlJlcG9zaXRvcnkxNzEzMzkyNTk=',\n",
       " 'name': '.github',\n",
       " 'full_name': 'amzn/.github',\n",
       " 'private': False,\n",
       " 'owner': {'login': 'amzn',\n",
       "  'id': 8594673,\n",
       "  'node_id': 'MDEyOk9yZ2FuaXphdGlvbjg1OTQ2NzM=',\n",
       "  'avatar_url': 'https://avatars.githubusercontent.com/u/8594673?v=4',\n",
       "  'gravatar_id': '',\n",
       "  'url': 'https://api.github.com/users/amzn',\n",
       "  'html_url': 'https://github.com/amzn',\n",
       "  'followers_url': 'https://api.github.com/users/amzn/followers',\n",
       "  'following_url': 'https://api.github.com/users/amzn/following{/other_user}',\n",
       "  'gists_url': 'https://api.github.com/users/amzn/gists{/gist_id}',\n",
       "  'starred_url': 'https://api.github.com/users/amzn/starred{/owner}{/repo}',\n",
       "  'subscriptions_url': 'https://api.github.com/users/amzn/subscriptions',\n",
       "  'organizations_url': 'https://api.github.com/users/amzn/orgs',\n",
       "  'repos_url': 'https://api.github.com/users/amzn/repos',\n",
       "  'events_url': 'https://api.github.com/users/amzn/events{/privacy}',\n",
       "  'received_events_url': 'https://api.github.com/users/amzn/received_events',\n",
       "  'type': 'Organization',\n",
       "  'site_admin': False},\n",
       " 'html_url': 'https://github.com/amzn/.github',\n",
       " 'description': None,\n",
       " 'fork': False,\n",
       " 'url': 'https://api.github.com/repos/amzn/.github',\n",
       " 'forks_url': 'https://api.github.com/repos/amzn/.github/forks',\n",
       " 'keys_url': 'https://api.github.com/repos/amzn/.github/keys{/key_id}',\n",
       " 'collaborators_url': 'https://api.github.com/repos/amzn/.github/collaborators{/collaborator}',\n",
       " 'teams_url': 'https://api.github.com/repos/amzn/.github/teams',\n",
       " 'hooks_url': 'https://api.github.com/repos/amzn/.github/hooks',\n",
       " 'issue_events_url': 'https://api.github.com/repos/amzn/.github/issues/events{/number}',\n",
       " 'events_url': 'https://api.github.com/repos/amzn/.github/events',\n",
       " 'assignees_url': 'https://api.github.com/repos/amzn/.github/assignees{/user}',\n",
       " 'branches_url': 'https://api.github.com/repos/amzn/.github/branches{/branch}',\n",
       " 'tags_url': 'https://api.github.com/repos/amzn/.github/tags',\n",
       " 'blobs_url': 'https://api.github.com/repos/amzn/.github/git/blobs{/sha}',\n",
       " 'git_tags_url': 'https://api.github.com/repos/amzn/.github/git/tags{/sha}',\n",
       " 'git_refs_url': 'https://api.github.com/repos/amzn/.github/git/refs{/sha}',\n",
       " 'trees_url': 'https://api.github.com/repos/amzn/.github/git/trees{/sha}',\n",
       " 'statuses_url': 'https://api.github.com/repos/amzn/.github/statuses/{sha}',\n",
       " 'languages_url': 'https://api.github.com/repos/amzn/.github/languages',\n",
       " 'stargazers_url': 'https://api.github.com/repos/amzn/.github/stargazers',\n",
       " 'contributors_url': 'https://api.github.com/repos/amzn/.github/contributors',\n",
       " 'subscribers_url': 'https://api.github.com/repos/amzn/.github/subscribers',\n",
       " 'subscription_url': 'https://api.github.com/repos/amzn/.github/subscription',\n",
       " 'commits_url': 'https://api.github.com/repos/amzn/.github/commits{/sha}',\n",
       " 'git_commits_url': 'https://api.github.com/repos/amzn/.github/git/commits{/sha}',\n",
       " 'comments_url': 'https://api.github.com/repos/amzn/.github/comments{/number}',\n",
       " 'issue_comment_url': 'https://api.github.com/repos/amzn/.github/issues/comments{/number}',\n",
       " 'contents_url': 'https://api.github.com/repos/amzn/.github/contents/{+path}',\n",
       " 'compare_url': 'https://api.github.com/repos/amzn/.github/compare/{base}...{head}',\n",
       " 'merges_url': 'https://api.github.com/repos/amzn/.github/merges',\n",
       " 'archive_url': 'https://api.github.com/repos/amzn/.github/{archive_format}{/ref}',\n",
       " 'downloads_url': 'https://api.github.com/repos/amzn/.github/downloads',\n",
       " 'issues_url': 'https://api.github.com/repos/amzn/.github/issues{/number}',\n",
       " 'pulls_url': 'https://api.github.com/repos/amzn/.github/pulls{/number}',\n",
       " 'milestones_url': 'https://api.github.com/repos/amzn/.github/milestones{/number}',\n",
       " 'notifications_url': 'https://api.github.com/repos/amzn/.github/notifications{?since,all,participating}',\n",
       " 'labels_url': 'https://api.github.com/repos/amzn/.github/labels{/name}',\n",
       " 'releases_url': 'https://api.github.com/repos/amzn/.github/releases{/id}',\n",
       " 'deployments_url': 'https://api.github.com/repos/amzn/.github/deployments',\n",
       " 'created_at': '2019-02-18T18:59:22Z',\n",
       " 'updated_at': '2024-01-28T17:12:00Z',\n",
       " 'pushed_at': '2024-03-14T15:40:19Z',\n",
       " 'git_url': 'git://github.com/amzn/.github.git',\n",
       " 'ssh_url': 'git@github.com:amzn/.github.git',\n",
       " 'clone_url': 'https://github.com/amzn/.github.git',\n",
       " 'svn_url': 'https://github.com/amzn/.github',\n",
       " 'homepage': None,\n",
       " 'size': 26,\n",
       " 'stargazers_count': 12,\n",
       " 'watchers_count': 12,\n",
       " 'language': None,\n",
       " 'has_issues': True,\n",
       " 'has_projects': False,\n",
       " 'has_downloads': True,\n",
       " 'has_wiki': False,\n",
       " 'has_pages': False,\n",
       " 'has_discussions': False,\n",
       " 'forks_count': 322,\n",
       " 'mirror_url': None,\n",
       " 'archived': False,\n",
       " 'disabled': False,\n",
       " 'open_issues_count': 3,\n",
       " 'license': None,\n",
       " 'allow_forking': True,\n",
       " 'is_template': False,\n",
       " 'web_commit_signoff_required': False,\n",
       " 'topics': [],\n",
       " 'visibility': 'public',\n",
       " 'forks': 322,\n",
       " 'open_issues': 3,\n",
       " 'watchers': 12,\n",
       " 'default_branch': 'master'}"
      ]
     },
     "execution_count": 9,
     "metadata": {},
     "output_type": "execute_result"
    }
   ],
   "source": [
    "repos_list[0][0]"
   ]
  },
  {
   "cell_type": "code",
   "execution_count": 13,
   "metadata": {},
   "outputs": [],
   "source": [
    "repos_name = []\n",
    "repos_language = []\n",
    "for page in repos_list:\n",
    "    for repo in page:\n",
    "        repos_name.append(repo['name'])\n",
    "        repos_language.append(repo['language'])"
   ]
  },
  {
   "cell_type": "code",
   "execution_count": 15,
   "metadata": {},
   "outputs": [
    {
     "data": {
      "text/plain": [
       "150"
      ]
     },
     "execution_count": 15,
     "metadata": {},
     "output_type": "execute_result"
    }
   ],
   "source": [
    "len(repos_language)"
   ]
  },
  {
   "cell_type": "code",
   "execution_count": 17,
   "metadata": {},
   "outputs": [],
   "source": [
    "dados_amz = pd.DataFrame()\n",
    "dados_amz['repository_name'] = repos_name\n",
    "dados_amz['language'] = repos_language"
   ]
  },
  {
   "cell_type": "code",
   "execution_count": 18,
   "metadata": {},
   "outputs": [
    {
     "data": {
      "text/html": [
       "<div>\n",
       "<style scoped>\n",
       "    .dataframe tbody tr th:only-of-type {\n",
       "        vertical-align: middle;\n",
       "    }\n",
       "\n",
       "    .dataframe tbody tr th {\n",
       "        vertical-align: top;\n",
       "    }\n",
       "\n",
       "    .dataframe thead th {\n",
       "        text-align: right;\n",
       "    }\n",
       "</style>\n",
       "<table border=\"1\" class=\"dataframe\">\n",
       "  <thead>\n",
       "    <tr style=\"text-align: right;\">\n",
       "      <th></th>\n",
       "      <th>repository_name</th>\n",
       "      <th>language</th>\n",
       "    </tr>\n",
       "  </thead>\n",
       "  <tbody>\n",
       "    <tr>\n",
       "      <th>0</th>\n",
       "      <td>.github</td>\n",
       "      <td>None</td>\n",
       "    </tr>\n",
       "    <tr>\n",
       "      <th>1</th>\n",
       "      <td>ads-advanced-tools-docs</td>\n",
       "      <td>None</td>\n",
       "    </tr>\n",
       "    <tr>\n",
       "      <th>2</th>\n",
       "      <td>ads-pao-amznjs-gtm-template</td>\n",
       "      <td>Smarty</td>\n",
       "    </tr>\n",
       "    <tr>\n",
       "      <th>3</th>\n",
       "      <td>alexa-coho</td>\n",
       "      <td>JavaScript</td>\n",
       "    </tr>\n",
       "    <tr>\n",
       "      <th>4</th>\n",
       "      <td>alexa-skills-kit-js</td>\n",
       "      <td>None</td>\n",
       "    </tr>\n",
       "    <tr>\n",
       "      <th>...</th>\n",
       "      <td>...</td>\n",
       "      <td>...</td>\n",
       "    </tr>\n",
       "    <tr>\n",
       "      <th>145</th>\n",
       "      <td>ws-vae</td>\n",
       "      <td>Python</td>\n",
       "    </tr>\n",
       "    <tr>\n",
       "      <th>146</th>\n",
       "      <td>xfer</td>\n",
       "      <td>Python</td>\n",
       "    </tr>\n",
       "    <tr>\n",
       "      <th>147</th>\n",
       "      <td>zeek-plugin-bacnet</td>\n",
       "      <td>Zeek</td>\n",
       "    </tr>\n",
       "    <tr>\n",
       "      <th>148</th>\n",
       "      <td>zeek-plugin-enip</td>\n",
       "      <td>Zeek</td>\n",
       "    </tr>\n",
       "    <tr>\n",
       "      <th>149</th>\n",
       "      <td>zeek-plugin-profinet</td>\n",
       "      <td>Zeek</td>\n",
       "    </tr>\n",
       "  </tbody>\n",
       "</table>\n",
       "<p>150 rows × 2 columns</p>\n",
       "</div>"
      ],
      "text/plain": [
       "                 repository_name    language\n",
       "0                        .github        None\n",
       "1        ads-advanced-tools-docs        None\n",
       "2    ads-pao-amznjs-gtm-template      Smarty\n",
       "3                     alexa-coho  JavaScript\n",
       "4            alexa-skills-kit-js        None\n",
       "..                           ...         ...\n",
       "145                       ws-vae      Python\n",
       "146                         xfer      Python\n",
       "147           zeek-plugin-bacnet        Zeek\n",
       "148             zeek-plugin-enip        Zeek\n",
       "149         zeek-plugin-profinet        Zeek\n",
       "\n",
       "[150 rows x 2 columns]"
      ]
     },
     "execution_count": 18,
     "metadata": {},
     "output_type": "execute_result"
    }
   ],
   "source": [
    "dados_amz"
   ]
  },
  {
   "cell_type": "code",
   "execution_count": null,
   "metadata": {},
   "outputs": [],
   "source": [
    "dados_amz.to_csv(\"amazon.csv\")"
   ]
  }
 ],
 "metadata": {
  "kernelspec": {
   "display_name": "venv",
   "language": "python",
   "name": "python3"
  },
  "language_info": {
   "codemirror_mode": {
    "name": "ipython",
    "version": 3
   },
   "file_extension": ".py",
   "mimetype": "text/x-python",
   "name": "python",
   "nbconvert_exporter": "python",
   "pygments_lexer": "ipython3",
   "version": "3.10.13"
  }
 },
 "nbformat": 4,
 "nbformat_minor": 2
}
